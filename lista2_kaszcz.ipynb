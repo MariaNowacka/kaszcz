{
 "cells": [
  {
   "cell_type": "markdown",
   "metadata": {},
   "source": [
    "# Lista 2"
   ]
  },
  {
   "cell_type": "code",
   "execution_count": 2,
   "metadata": {},
   "outputs": [],
   "source": [
    "import numpy as np"
   ]
  },
  {
   "cell_type": "code",
   "execution_count": 1,
   "metadata": {},
   "outputs": [],
   "source": [
    "def oblicz_regresje(x, y):\n",
    "    # Obliczenie współczynnika b1\n",
    "    b1 = np.sum((x - np.mean(x)) * (y - np.mean(y))) / np.sum((x - np.mean(x))**2)\n",
    "\n",
    "    # Obliczenie współczynnika b0\n",
    "    b0 = np.mean(y) - b1 * np.mean(x)\n",
    "\n",
    "    return b0, b1"
   ]
  },
  {
   "cell_type": "markdown",
   "metadata": {},
   "source": [
    "## zadanie 1"
   ]
  },
  {
   "cell_type": "code",
   "execution_count": 14,
   "metadata": {},
   "outputs": [],
   "source": [
    "import numpy as np, matplotlib.pyplot as plt\n",
    "from scipy.stats import t"
   ]
  },
  {
   "cell_type": "code",
   "execution_count": 3,
   "metadata": {},
   "outputs": [],
   "source": [
    "def var_b1(x, v):\n",
    "    x_mean = np.mean(x)\n",
    "    return v/(v-2)*1/(sum((xi - x_mean)**2 for xi in x))"
   ]
  },
  {
   "cell_type": "code",
   "execution_count": 4,
   "metadata": {},
   "outputs": [],
   "source": [
    "def var_b0(x, v):\n",
    "    x_mean = np.mean(x)\n",
    "    n = len(x)\n",
    "    return v/(v-2)*(1/n + x_mean**2 * 1/(sum((xi - x_mean)**2 for xi in x)))"
   ]
  },
  {
   "cell_type": "code",
   "execution_count": 16,
   "metadata": {},
   "outputs": [
    {
     "name": "stderr",
     "output_type": "stream",
     "text": [
      "C:\\Users\\Maria Nowacka\\AppData\\Local\\Packages\\PythonSoftwareFoundation.Python.3.11_qbz5n2kfra8p0\\LocalCache\\local-packages\\Python311\\site-packages\\numpy\\core\\fromnumeric.py:3504: RuntimeWarning: Mean of empty slice.\n",
      "  return _methods._mean(a, axis=axis, dtype=dtype,\n",
      "C:\\Users\\Maria Nowacka\\AppData\\Local\\Packages\\PythonSoftwareFoundation.Python.3.11_qbz5n2kfra8p0\\LocalCache\\local-packages\\Python311\\site-packages\\numpy\\core\\_methods.py:129: RuntimeWarning: invalid value encountered in scalar divide\n",
      "  ret = ret.dtype.type(ret / rcount)\n",
      "C:\\Users\\Maria Nowacka\\AppData\\Local\\Temp\\ipykernel_14060\\4258511983.py:3: RuntimeWarning: invalid value encountered in scalar divide\n",
      "  b1 = np.sum((x - np.mean(x)) * (y - np.mean(y))) / np.sum((x - np.mean(x))**2)\n"
     ]
    }
   ],
   "source": [
    "vv = [3, 5, 7]\n",
    "sig = [1.0, 3.0, 7.0]\n",
    "b0_true = 2.0\n",
    "b1_true = 3.0\n",
    "\n",
    "MC = 200\n",
    "for n in range(MC):\n",
    "    x = np.random.uniform(0, 10, n)\n",
    "    for v in vv:\n",
    "        epst = t.rvs(v, size = n)\n",
    "        y = b0_true + b1_true * x + epst\n",
    "        b0, b1 = oblicz_regresje(x, y)"
   ]
  },
  {
   "cell_type": "code",
   "execution_count": null,
   "metadata": {},
   "outputs": [],
   "source": [
    "\n",
    "    # epsn = np.random.normal(0, sigma, n)"
   ]
  }
 ],
 "metadata": {
  "kernelspec": {
   "display_name": "Python 3",
   "language": "python",
   "name": "python3"
  },
  "language_info": {
   "codemirror_mode": {
    "name": "ipython",
    "version": 3
   },
   "file_extension": ".py",
   "mimetype": "text/x-python",
   "name": "python",
   "nbconvert_exporter": "python",
   "pygments_lexer": "ipython3",
   "version": "3.11.9"
  }
 },
 "nbformat": 4,
 "nbformat_minor": 2
}
