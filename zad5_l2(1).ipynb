{
  "cells": [
    {
      "cell_type": "markdown",
      "id": "adfe8c011c107a6d",
      "metadata": {
        "id": "adfe8c011c107a6d"
      },
      "source": [
        "## zadanie 5\n",
        "### część 1"
      ]
    },
    {
      "cell_type": "code",
      "execution_count": 1,
      "id": "57a4e590e64fd5ec",
      "metadata": {
        "ExecuteTime": {
          "end_time": "2024-11-07T22:11:53.979770Z",
          "start_time": "2024-11-07T22:11:50.099206Z"
        },
        "id": "57a4e590e64fd5ec"
      },
      "outputs": [],
      "source": [
        "import numpy as np, matplotlib.pyplot as plt"
      ]
    },
    {
      "cell_type": "code",
      "execution_count": 2,
      "id": "40081128af60211f",
      "metadata": {
        "ExecuteTime": {
          "end_time": "2024-11-07T23:27:26.212373Z",
          "start_time": "2024-11-07T23:27:26.189015Z"
        },
        "id": "40081128af60211f"
      },
      "outputs": [],
      "source": [
        "def oblicz_regresje(x, y):\n",
        "    x_mean = np.mean(x)\n",
        "    y_mean = np.mean(y)\n",
        "    b1 = np.sum((x - x_mean) * (y - y_mean)) / np.sum((x - x_mean)**2)\n",
        "    b0 = y_mean - b1 * x_mean\n",
        "    return b0, b1"
      ]
    },
    {
      "cell_type": "code",
      "execution_count": 3,
      "id": "4b222d48f9409657",
      "metadata": {
        "ExecuteTime": {
          "end_time": "2024-11-08T00:02:49.140353Z",
          "start_time": "2024-11-08T00:02:49.125866Z"
        },
        "id": "4b222d48f9409657"
      },
      "outputs": [],
      "source": [
        "N1 = 100\n",
        "N2 = 1000\n",
        "sigmas = [0.1, 0.5,0.9, 1.1, 1.5, 2, 3]\n",
        "mc = 500"
      ]
    },
    {
      "cell_type": "code",
      "source": [],
      "metadata": {
        "id": "1ROFgsnWVYVR"
      },
      "id": "1ROFgsnWVYVR",
      "execution_count": null,
      "outputs": []
    },
    {
      "cell_type": "code",
      "execution_count": 4,
      "id": "initial_id",
      "metadata": {
        "ExecuteTime": {
          "end_time": "2024-11-08T00:00:06.230204Z",
          "start_time": "2024-11-08T00:00:06.205485Z"
        },
        "collapsed": true,
        "id": "initial_id"
      },
      "outputs": [],
      "source": [
        "def punkt_zmiany(n, l, sigma):\n",
        "    dane1 = np.random.normal(0, sigma**2, size = int(l*n))\n",
        "    dane2 = np.random.normal(0, 1, size = int((1-l)*n))\n",
        "    dane = np.concatenate([dane1, dane2])\n",
        "    potencjalne_k = range(2, n-1)\n",
        "    V = {}\n",
        "    # for k in potencjalne_k:\n",
        "    #     c = []\n",
        "    #     for i in range(n+1):\n",
        "    #         c.append(sum(xi**2 for xi in dane[:i+1]))\n",
        "    c = np.cumsum(dane**2)\n",
        "    for k in potencjalne_k:\n",
        "        c1 = c[:k+1]\n",
        "        c2 = c[k+1:]\n",
        "        cz1 = np.arange(0,k+1)\n",
        "        cz2 = np.arange(k+1, n)\n",
        "        alfa1, beta1 = oblicz_regresje(cz1, c1)\n",
        "        alfa2, beta2 = oblicz_regresje(cz2, c2)\n",
        "        V[k] = np.sum((c1 - (alfa1 + beta1*cz1))**2) + np.sum((c2 - (alfa2 + beta2*cz2))**2 )\n",
        "    return min(V, key = V.get)\n",
        ""
      ]
    },
    {
      "cell_type": "code",
      "execution_count": null,
      "id": "1c47ebd25b6ab89",
      "metadata": {
        "ExecuteTime": {
          "end_time": "2024-11-07T23:44:21.914124Z",
          "start_time": "2024-11-07T23:44:21.653974Z"
        },
        "id": "1c47ebd25b6ab89",
        "outputId": "3c304b21-ca0a-4c7e-bb1f-e3eb7d79c926"
      },
      "outputs": [
        {
          "name": "stderr",
          "output_type": "stream",
          "text": [
            "C:\\Users\\Maria Nowacka\\AppData\\Local\\Temp\\ipykernel_1196\\2014523131.py:4: RuntimeWarning: invalid value encountered in scalar divide\n",
            "  b1 = np.sum((x - x_mean) * (y - y_mean)) / np.sum((x - x_mean)**2)\n"
          ]
        },
        {
          "data": {
            "text/plain": [
              "323"
            ]
          },
          "execution_count": 37,
          "metadata": {},
          "output_type": "execute_result"
        }
      ],
      "source": [
        "punkt_zmiany(1000, 0.3, 1.1)"
      ]
    },
    {
      "cell_type": "code",
      "source": [
        "def zadanie_5(n, l):\n",
        "    kk = {}\n",
        "    for sigma in sigmas:\n",
        "        kk[sigma] = []\n",
        "        for _ in range(mc):\n",
        "            kk[sigma].append(punkt_zmiany(n, l, sigma))\n",
        "    plt.boxplot(kk.values(), labels=kk.keys())\n",
        "    plt.xlabel('sigma')\n",
        "    plt.axhline(y=l*n, linestyle='--', color = 'red')\n",
        "    plt.title(f'Symulacja dla n={n} w punkcie zmiany reżimu l={l}*n')\n",
        "    plt.savefig(f'n{n}_l0{int(l*10)}.png')\n",
        "    plt.show()\n",
        "    return kk"
      ],
      "metadata": {
        "id": "zlg3lCw1MSA3"
      },
      "id": "zlg3lCw1MSA3",
      "execution_count": 18,
      "outputs": []
    },
    {
      "cell_type": "code",
      "execution_count": 22,
      "id": "5f4361e418d280f6",
      "metadata": {
        "ExecuteTime": {
          "end_time": "2024-11-08T00:42:17.015309Z",
          "start_time": "2024-11-08T00:16:36.018065Z"
        },
        "colab": {
          "base_uri": "https://localhost:8080/",
          "height": 411
        },
        "id": "5f4361e418d280f6",
        "outputId": "844372b8-c10f-4c85-d696-5b49832f33ae"
      },
      "outputs": [
        {
          "output_type": "stream",
          "name": "stderr",
          "text": [
            "<ipython-input-2-a6a291692acd>:4: RuntimeWarning: invalid value encountered in scalar divide\n",
            "  b1 = np.sum((x - x_mean) * (y - y_mean)) / np.sum((x - x_mean)**2)\n"
          ]
        },
        {
          "output_type": "error",
          "ename": "KeyboardInterrupt",
          "evalue": "",
          "traceback": [
            "\u001b[0;31m---------------------------------------------------------------------------\u001b[0m",
            "\u001b[0;31mKeyboardInterrupt\u001b[0m                         Traceback (most recent call last)",
            "\u001b[0;32m<ipython-input-22-50c8c4dc8ba8>\u001b[0m in \u001b[0;36m<cell line: 2>\u001b[0;34m()\u001b[0m\n\u001b[1;32m      2\u001b[0m \u001b[0;32mfor\u001b[0m \u001b[0mn\u001b[0m \u001b[0;32min\u001b[0m \u001b[0;34m[\u001b[0m\u001b[0mN1\u001b[0m\u001b[0;34m,\u001b[0m \u001b[0mN2\u001b[0m\u001b[0;34m]\u001b[0m\u001b[0;34m:\u001b[0m\u001b[0;34m\u001b[0m\u001b[0;34m\u001b[0m\u001b[0m\n\u001b[1;32m      3\u001b[0m     \u001b[0;32mfor\u001b[0m \u001b[0ml\u001b[0m \u001b[0;32min\u001b[0m \u001b[0;34m[\u001b[0m\u001b[0;36m0.3\u001b[0m\u001b[0;34m,\u001b[0m \u001b[0;36m0.5\u001b[0m\u001b[0;34m]\u001b[0m\u001b[0;34m:\u001b[0m\u001b[0;34m\u001b[0m\u001b[0;34m\u001b[0m\u001b[0m\n\u001b[0;32m----> 4\u001b[0;31m         \u001b[0mzadanie_5\u001b[0m\u001b[0;34m(\u001b[0m\u001b[0mn\u001b[0m\u001b[0;34m,\u001b[0m \u001b[0ml\u001b[0m\u001b[0;34m)\u001b[0m\u001b[0;34m\u001b[0m\u001b[0;34m\u001b[0m\u001b[0m\n\u001b[0m\u001b[1;32m      5\u001b[0m \u001b[0;34m\u001b[0m\u001b[0m\n",
            "\u001b[0;32m<ipython-input-18-3f94e4b3cc01>\u001b[0m in \u001b[0;36mzadanie_5\u001b[0;34m(n, l)\u001b[0m\n\u001b[1;32m      4\u001b[0m         \u001b[0mkk\u001b[0m\u001b[0;34m[\u001b[0m\u001b[0msigma\u001b[0m\u001b[0;34m]\u001b[0m \u001b[0;34m=\u001b[0m \u001b[0;34m[\u001b[0m\u001b[0;34m]\u001b[0m\u001b[0;34m\u001b[0m\u001b[0;34m\u001b[0m\u001b[0m\n\u001b[1;32m      5\u001b[0m         \u001b[0;32mfor\u001b[0m \u001b[0m_\u001b[0m \u001b[0;32min\u001b[0m \u001b[0mrange\u001b[0m\u001b[0;34m(\u001b[0m\u001b[0mmc\u001b[0m\u001b[0;34m)\u001b[0m\u001b[0;34m:\u001b[0m\u001b[0;34m\u001b[0m\u001b[0;34m\u001b[0m\u001b[0m\n\u001b[0;32m----> 6\u001b[0;31m             \u001b[0mkk\u001b[0m\u001b[0;34m[\u001b[0m\u001b[0msigma\u001b[0m\u001b[0;34m]\u001b[0m\u001b[0;34m.\u001b[0m\u001b[0mappend\u001b[0m\u001b[0;34m(\u001b[0m\u001b[0mpunkt_zmiany\u001b[0m\u001b[0;34m(\u001b[0m\u001b[0mn\u001b[0m\u001b[0;34m,\u001b[0m \u001b[0ml\u001b[0m\u001b[0;34m,\u001b[0m \u001b[0msigma\u001b[0m\u001b[0;34m)\u001b[0m\u001b[0;34m)\u001b[0m\u001b[0;34m\u001b[0m\u001b[0;34m\u001b[0m\u001b[0m\n\u001b[0m\u001b[1;32m      7\u001b[0m     \u001b[0mplt\u001b[0m\u001b[0;34m.\u001b[0m\u001b[0mboxplot\u001b[0m\u001b[0;34m(\u001b[0m\u001b[0mkk\u001b[0m\u001b[0;34m.\u001b[0m\u001b[0mvalues\u001b[0m\u001b[0;34m(\u001b[0m\u001b[0;34m)\u001b[0m\u001b[0;34m,\u001b[0m \u001b[0mlabels\u001b[0m\u001b[0;34m=\u001b[0m\u001b[0mkk\u001b[0m\u001b[0;34m.\u001b[0m\u001b[0mkeys\u001b[0m\u001b[0;34m(\u001b[0m\u001b[0;34m)\u001b[0m\u001b[0;34m)\u001b[0m\u001b[0;34m\u001b[0m\u001b[0;34m\u001b[0m\u001b[0m\n\u001b[1;32m      8\u001b[0m     \u001b[0mplt\u001b[0m\u001b[0;34m.\u001b[0m\u001b[0mxlabel\u001b[0m\u001b[0;34m(\u001b[0m\u001b[0;34m'sigma'\u001b[0m\u001b[0;34m)\u001b[0m\u001b[0;34m\u001b[0m\u001b[0;34m\u001b[0m\u001b[0m\n",
            "\u001b[0;32m<ipython-input-4-045fbb397b6a>\u001b[0m in \u001b[0;36mpunkt_zmiany\u001b[0;34m(n, l, sigma)\u001b[0m\n\u001b[1;32m     15\u001b[0m         \u001b[0mcz1\u001b[0m \u001b[0;34m=\u001b[0m \u001b[0mnp\u001b[0m\u001b[0;34m.\u001b[0m\u001b[0marange\u001b[0m\u001b[0;34m(\u001b[0m\u001b[0;36m0\u001b[0m\u001b[0;34m,\u001b[0m\u001b[0mk\u001b[0m\u001b[0;34m+\u001b[0m\u001b[0;36m1\u001b[0m\u001b[0;34m)\u001b[0m\u001b[0;34m\u001b[0m\u001b[0;34m\u001b[0m\u001b[0m\n\u001b[1;32m     16\u001b[0m         \u001b[0mcz2\u001b[0m \u001b[0;34m=\u001b[0m \u001b[0mnp\u001b[0m\u001b[0;34m.\u001b[0m\u001b[0marange\u001b[0m\u001b[0;34m(\u001b[0m\u001b[0mk\u001b[0m\u001b[0;34m+\u001b[0m\u001b[0;36m1\u001b[0m\u001b[0;34m,\u001b[0m \u001b[0mn\u001b[0m\u001b[0;34m)\u001b[0m\u001b[0;34m\u001b[0m\u001b[0;34m\u001b[0m\u001b[0m\n\u001b[0;32m---> 17\u001b[0;31m         \u001b[0malfa1\u001b[0m\u001b[0;34m,\u001b[0m \u001b[0mbeta1\u001b[0m \u001b[0;34m=\u001b[0m \u001b[0moblicz_regresje\u001b[0m\u001b[0;34m(\u001b[0m\u001b[0mcz1\u001b[0m\u001b[0;34m,\u001b[0m \u001b[0mc1\u001b[0m\u001b[0;34m)\u001b[0m\u001b[0;34m\u001b[0m\u001b[0;34m\u001b[0m\u001b[0m\n\u001b[0m\u001b[1;32m     18\u001b[0m         \u001b[0malfa2\u001b[0m\u001b[0;34m,\u001b[0m \u001b[0mbeta2\u001b[0m \u001b[0;34m=\u001b[0m \u001b[0moblicz_regresje\u001b[0m\u001b[0;34m(\u001b[0m\u001b[0mcz2\u001b[0m\u001b[0;34m,\u001b[0m \u001b[0mc2\u001b[0m\u001b[0;34m)\u001b[0m\u001b[0;34m\u001b[0m\u001b[0;34m\u001b[0m\u001b[0m\n\u001b[1;32m     19\u001b[0m         \u001b[0mV\u001b[0m\u001b[0;34m[\u001b[0m\u001b[0mk\u001b[0m\u001b[0;34m]\u001b[0m \u001b[0;34m=\u001b[0m \u001b[0mnp\u001b[0m\u001b[0;34m.\u001b[0m\u001b[0msum\u001b[0m\u001b[0;34m(\u001b[0m\u001b[0;34m(\u001b[0m\u001b[0mc1\u001b[0m \u001b[0;34m-\u001b[0m \u001b[0;34m(\u001b[0m\u001b[0malfa1\u001b[0m \u001b[0;34m+\u001b[0m \u001b[0mbeta1\u001b[0m\u001b[0;34m*\u001b[0m\u001b[0mcz1\u001b[0m\u001b[0;34m)\u001b[0m\u001b[0;34m)\u001b[0m\u001b[0;34m**\u001b[0m\u001b[0;36m2\u001b[0m\u001b[0;34m)\u001b[0m \u001b[0;34m+\u001b[0m \u001b[0mnp\u001b[0m\u001b[0;34m.\u001b[0m\u001b[0msum\u001b[0m\u001b[0;34m(\u001b[0m\u001b[0;34m(\u001b[0m\u001b[0mc2\u001b[0m \u001b[0;34m-\u001b[0m \u001b[0;34m(\u001b[0m\u001b[0malfa2\u001b[0m \u001b[0;34m+\u001b[0m \u001b[0mbeta2\u001b[0m\u001b[0;34m*\u001b[0m\u001b[0mcz2\u001b[0m\u001b[0;34m)\u001b[0m\u001b[0;34m)\u001b[0m\u001b[0;34m**\u001b[0m\u001b[0;36m2\u001b[0m \u001b[0;34m)\u001b[0m\u001b[0;34m\u001b[0m\u001b[0;34m\u001b[0m\u001b[0m\n",
            "\u001b[0;32m<ipython-input-2-a6a291692acd>\u001b[0m in \u001b[0;36moblicz_regresje\u001b[0;34m(x, y)\u001b[0m\n\u001b[1;32m      1\u001b[0m \u001b[0;32mdef\u001b[0m \u001b[0moblicz_regresje\u001b[0m\u001b[0;34m(\u001b[0m\u001b[0mx\u001b[0m\u001b[0;34m,\u001b[0m \u001b[0my\u001b[0m\u001b[0;34m)\u001b[0m\u001b[0;34m:\u001b[0m\u001b[0;34m\u001b[0m\u001b[0;34m\u001b[0m\u001b[0m\n\u001b[0;32m----> 2\u001b[0;31m     \u001b[0mx_mean\u001b[0m \u001b[0;34m=\u001b[0m \u001b[0mnp\u001b[0m\u001b[0;34m.\u001b[0m\u001b[0mmean\u001b[0m\u001b[0;34m(\u001b[0m\u001b[0mx\u001b[0m\u001b[0;34m)\u001b[0m\u001b[0;34m\u001b[0m\u001b[0;34m\u001b[0m\u001b[0m\n\u001b[0m\u001b[1;32m      3\u001b[0m     \u001b[0my_mean\u001b[0m \u001b[0;34m=\u001b[0m \u001b[0mnp\u001b[0m\u001b[0;34m.\u001b[0m\u001b[0mmean\u001b[0m\u001b[0;34m(\u001b[0m\u001b[0my\u001b[0m\u001b[0;34m)\u001b[0m\u001b[0;34m\u001b[0m\u001b[0;34m\u001b[0m\u001b[0m\n\u001b[1;32m      4\u001b[0m     \u001b[0mb1\u001b[0m \u001b[0;34m=\u001b[0m \u001b[0mnp\u001b[0m\u001b[0;34m.\u001b[0m\u001b[0msum\u001b[0m\u001b[0;34m(\u001b[0m\u001b[0;34m(\u001b[0m\u001b[0mx\u001b[0m \u001b[0;34m-\u001b[0m \u001b[0mx_mean\u001b[0m\u001b[0;34m)\u001b[0m \u001b[0;34m*\u001b[0m \u001b[0;34m(\u001b[0m\u001b[0my\u001b[0m \u001b[0;34m-\u001b[0m \u001b[0my_mean\u001b[0m\u001b[0;34m)\u001b[0m\u001b[0;34m)\u001b[0m \u001b[0;34m/\u001b[0m \u001b[0mnp\u001b[0m\u001b[0;34m.\u001b[0m\u001b[0msum\u001b[0m\u001b[0;34m(\u001b[0m\u001b[0;34m(\u001b[0m\u001b[0mx\u001b[0m \u001b[0;34m-\u001b[0m \u001b[0mx_mean\u001b[0m\u001b[0;34m)\u001b[0m\u001b[0;34m**\u001b[0m\u001b[0;36m2\u001b[0m\u001b[0;34m)\u001b[0m\u001b[0;34m\u001b[0m\u001b[0;34m\u001b[0m\u001b[0m\n\u001b[1;32m      5\u001b[0m     \u001b[0mb0\u001b[0m \u001b[0;34m=\u001b[0m \u001b[0my_mean\u001b[0m \u001b[0;34m-\u001b[0m \u001b[0mb1\u001b[0m \u001b[0;34m*\u001b[0m \u001b[0mx_mean\u001b[0m\u001b[0;34m\u001b[0m\u001b[0;34m\u001b[0m\u001b[0m\n",
            "\u001b[0;32m/usr/local/lib/python3.10/dist-packages/numpy/core/fromnumeric.py\u001b[0m in \u001b[0;36mmean\u001b[0;34m(a, axis, dtype, out, keepdims, where)\u001b[0m\n\u001b[1;32m   3502\u001b[0m             \u001b[0;32mreturn\u001b[0m \u001b[0mmean\u001b[0m\u001b[0;34m(\u001b[0m\u001b[0maxis\u001b[0m\u001b[0;34m=\u001b[0m\u001b[0maxis\u001b[0m\u001b[0;34m,\u001b[0m \u001b[0mdtype\u001b[0m\u001b[0;34m=\u001b[0m\u001b[0mdtype\u001b[0m\u001b[0;34m,\u001b[0m \u001b[0mout\u001b[0m\u001b[0;34m=\u001b[0m\u001b[0mout\u001b[0m\u001b[0;34m,\u001b[0m \u001b[0;34m**\u001b[0m\u001b[0mkwargs\u001b[0m\u001b[0;34m)\u001b[0m\u001b[0;34m\u001b[0m\u001b[0;34m\u001b[0m\u001b[0m\n\u001b[1;32m   3503\u001b[0m \u001b[0;34m\u001b[0m\u001b[0m\n\u001b[0;32m-> 3504\u001b[0;31m     return _methods._mean(a, axis=axis, dtype=dtype,\n\u001b[0m\u001b[1;32m   3505\u001b[0m                           out=out, **kwargs)\n\u001b[1;32m   3506\u001b[0m \u001b[0;34m\u001b[0m\u001b[0m\n",
            "\u001b[0;32m/usr/local/lib/python3.10/dist-packages/numpy/core/_methods.py\u001b[0m in \u001b[0;36m_mean\u001b[0;34m(a, axis, dtype, out, keepdims, where)\u001b[0m\n\u001b[1;32m    116\u001b[0m             \u001b[0mis_float16_result\u001b[0m \u001b[0;34m=\u001b[0m \u001b[0;32mTrue\u001b[0m\u001b[0;34m\u001b[0m\u001b[0;34m\u001b[0m\u001b[0m\n\u001b[1;32m    117\u001b[0m \u001b[0;34m\u001b[0m\u001b[0m\n\u001b[0;32m--> 118\u001b[0;31m     \u001b[0mret\u001b[0m \u001b[0;34m=\u001b[0m \u001b[0mumr_sum\u001b[0m\u001b[0;34m(\u001b[0m\u001b[0marr\u001b[0m\u001b[0;34m,\u001b[0m \u001b[0maxis\u001b[0m\u001b[0;34m,\u001b[0m \u001b[0mdtype\u001b[0m\u001b[0;34m,\u001b[0m \u001b[0mout\u001b[0m\u001b[0;34m,\u001b[0m \u001b[0mkeepdims\u001b[0m\u001b[0;34m,\u001b[0m \u001b[0mwhere\u001b[0m\u001b[0;34m=\u001b[0m\u001b[0mwhere\u001b[0m\u001b[0;34m)\u001b[0m\u001b[0;34m\u001b[0m\u001b[0;34m\u001b[0m\u001b[0m\n\u001b[0m\u001b[1;32m    119\u001b[0m     \u001b[0;32mif\u001b[0m \u001b[0misinstance\u001b[0m\u001b[0;34m(\u001b[0m\u001b[0mret\u001b[0m\u001b[0;34m,\u001b[0m \u001b[0mmu\u001b[0m\u001b[0;34m.\u001b[0m\u001b[0mndarray\u001b[0m\u001b[0;34m)\u001b[0m\u001b[0;34m:\u001b[0m\u001b[0;34m\u001b[0m\u001b[0;34m\u001b[0m\u001b[0m\n\u001b[1;32m    120\u001b[0m         \u001b[0;32mwith\u001b[0m \u001b[0m_no_nep50_warning\u001b[0m\u001b[0;34m(\u001b[0m\u001b[0;34m)\u001b[0m\u001b[0;34m:\u001b[0m\u001b[0;34m\u001b[0m\u001b[0;34m\u001b[0m\u001b[0m\n",
            "\u001b[0;31mKeyboardInterrupt\u001b[0m: "
          ]
        }
      ],
      "source": [
        "wyniki = []\n",
        "for n in [N1, N2]:\n",
        "    for l in [0.3, 0.5]:\n",
        "        wyniki.append(zadanie_5(n, l))"
      ]
    },
    {
      "cell_type": "markdown",
      "source": [
        "### część 2"
      ],
      "metadata": {
        "id": "Jm4OX5Z2_sEG"
      },
      "id": "Jm4OX5Z2_sEG"
    },
    {
      "cell_type": "code",
      "source": [
        "from scipy.stats import binom"
      ],
      "metadata": {
        "id": "-gQShbpWQZo7"
      },
      "id": "-gQShbpWQZo7",
      "execution_count": 26,
      "outputs": []
    },
    {
      "cell_type": "code",
      "execution_count": 44,
      "id": "95193a809848f565",
      "metadata": {
        "id": "95193a809848f565"
      },
      "outputs": [],
      "source": [
        "def ok_czy_nie(k, sigma, n, l, alpha = 0.05):\n",
        "  if k == 2 or k >= n-2:\n",
        "    print('kłopocik')\n",
        "  else:\n",
        "    dane1 = np.random.normal(0, sigma**2, size = int(l*n))\n",
        "    dane2 = np.random.normal(0, 1, size = int((1-l)*n))\n",
        "    dane = np.concatenate([dane1, dane2])\n",
        "    V = {}\n",
        "    X = dane**2\n",
        "    x1 = X[:k+1]\n",
        "    x2 = X[k+1:]\n",
        "    std1 = np.std(x1)\n",
        "    std2 = np.std(x2)\n",
        "    if std1<std2:\n",
        "      A = x1\n",
        "      B = x2\n",
        "    else:\n",
        "      A = x2\n",
        "      B = x1\n",
        "    kwantyl_a2 = np.percentile(A, alpha*100/2)\n",
        "    kwantyl_1a2 = np.percentile(A, 100*(1- alpha/2))\n",
        "    D = np.sum((kwantyl_a2 <= B) & (B <= kwantyl_1a2))\n",
        "    p = 1 - alpha\n",
        "    p_value = binom.cdf(D, n = len(B), p = p)\n",
        "    if p_value > alpha:\n",
        "      return False\n",
        "      # nie bierzemy tego k pod uwagę\n",
        "    else:\n",
        "      return True\n",
        "      # bierzemy punkt jako punkt zmiany reżimu\n",
        ""
      ]
    },
    {
      "cell_type": "code",
      "source": [
        "def zadanie_5cz2(n = 1000, l = 0.5):\n",
        "    kk = {}\n",
        "    valid_k = {}\n",
        "    obserwacje_odrzucone = {}\n",
        "    for sigma in sigmas:\n",
        "        kk[sigma] = []\n",
        "        valid_k[sigma] = []\n",
        "        obserwacje_odrzucone[sigma] = 0\n",
        "        for _ in range(mc):\n",
        "          k = punkt_zmiany(n, l, sigma)\n",
        "          kk[sigma].append(k)\n",
        "          if ok_czy_nie(k, sigma, n, l):\n",
        "            valid_k[sigma].append(k)\n",
        "          else:\n",
        "            obserwacje_odrzucone[sigma] += 1\n",
        "    plt.boxplot([kk.values(), valid_k.values()], labels=[kk.keys(), valid_k.keys()], color = ['green', 'brown'])\n",
        "    plt.xlabel('sigma')\n",
        "    plt.axhline(y=l*n, linestyle='--', color = 'red')\n",
        "    plt.title(f'Symulacja dla n={n} w punkcie zmiany reżimu l={l}*n')\n",
        "    plt.savefig(f'n{n}_l0{int(l*10)}.png')\n",
        "    plt.show()\n",
        "    print(f'dla parametrów n = {n}, l = {l}, liczba obserwacje odrzuconych {obserwacje_odrzucone}')"
      ],
      "metadata": {
        "id": "kGOuaSdH8jjn"
      },
      "id": "kGOuaSdH8jjn",
      "execution_count": 47,
      "outputs": []
    },
    {
      "cell_type": "code",
      "source": [
        "zadanie_5cz2()"
      ],
      "metadata": {
        "colab": {
          "base_uri": "https://localhost:8080/"
        },
        "id": "McgZMQEDOQ2n",
        "outputId": "07ccec7b-8feb-4a80-d62d-94fafc13da14"
      },
      "id": "McgZMQEDOQ2n",
      "execution_count": null,
      "outputs": [
        {
          "output_type": "stream",
          "name": "stderr",
          "text": [
            "<ipython-input-2-a6a291692acd>:4: RuntimeWarning: invalid value encountered in scalar divide\n",
            "  b1 = np.sum((x - x_mean) * (y - y_mean)) / np.sum((x - x_mean)**2)\n"
          ]
        }
      ]
    },
    {
      "cell_type": "code",
      "source": [],
      "metadata": {
        "id": "gAtSAEHbRZWF"
      },
      "id": "gAtSAEHbRZWF",
      "execution_count": null,
      "outputs": []
    }
  ],
  "metadata": {
    "kernelspec": {
      "display_name": "Python 3",
      "language": "python",
      "name": "python3"
    },
    "language_info": {
      "codemirror_mode": {
        "name": "ipython",
        "version": 3
      },
      "file_extension": ".py",
      "mimetype": "text/x-python",
      "name": "python",
      "nbconvert_exporter": "python",
      "pygments_lexer": "ipython3",
      "version": "3.11.9"
    },
    "colab": {
      "provenance": []
    }
  },
  "nbformat": 4,
  "nbformat_minor": 5
}